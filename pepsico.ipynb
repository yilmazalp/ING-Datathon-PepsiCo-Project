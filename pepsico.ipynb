{
 "cells": [
  {
   "cell_type": "code",
   "execution_count": 1,
   "metadata": {
    "_cell_guid": "b1076dfc-b9ad-4769-8c92-a6c4dae69d19",
    "_uuid": "8f2839f25d086af736a60e9eeb907d3b93b6e0e5"
   },
   "outputs": [
    {
     "name": "stdout",
     "output_type": "stream",
     "text": [
      "/kaggle/input/pepsi-projesi/testtrain.csv\n",
      "/kaggle/input/pepsi-projesi/samplesub.csv\n"
     ]
    }
   ],
   "source": [
    "# This Python 3 environment comes with many helpful analytics libraries installed\n",
    "# It is defined by the kaggle/python docker image: https://github.com/kaggle/docker-python\n",
    "# For example, here's several helpful packages to load in \n",
    "\n",
    "import numpy as np # linear algebra\n",
    "import pandas as pd # data processing, CSV file I/O (e.g. pd.read_csv)\n",
    "\n",
    "# Input data files are available in the \"../input/\" directory.\n",
    "# For example, running this (by clicking run or pressing Shift+Enter) will list all files under the input directory\n",
    "\n",
    "import os\n",
    "for dirname, _, filenames in os.walk('/kaggle/input'):\n",
    "    for filename in filenames:\n",
    "        print(os.path.join(dirname, filename))\n",
    "\n",
    "# Any results you write to the current directory are saved as output."
   ]
  },
  {
   "cell_type": "code",
   "execution_count": 2,
   "metadata": {
    "_cell_guid": "79c7e3d0-c299-4dcb-8224-4455121ee9b0",
    "_uuid": "d629ff2d2480ee46fbb7e2d37f6b5fab8052498a"
   },
   "outputs": [],
   "source": [
    "data = pd.read_csv('/kaggle/input/pepsi-projesi/testtrain.csv')"
   ]
  },
  {
   "cell_type": "code",
   "execution_count": 3,
   "metadata": {},
   "outputs": [
    {
     "data": {
      "text/html": [
       "<div>\n",
       "<style scoped>\n",
       "    .dataframe tbody tr th:only-of-type {\n",
       "        vertical-align: middle;\n",
       "    }\n",
       "\n",
       "    .dataframe tbody tr th {\n",
       "        vertical-align: top;\n",
       "    }\n",
       "\n",
       "    .dataframe thead th {\n",
       "        text-align: right;\n",
       "    }\n",
       "</style>\n",
       "<table border=\"1\" class=\"dataframe\">\n",
       "  <thead>\n",
       "    <tr style=\"text-align: right;\">\n",
       "      <th></th>\n",
       "      <th>ID</th>\n",
       "      <th>Months</th>\n",
       "      <th>KG_N</th>\n",
       "      <th>Age_0btw14</th>\n",
       "      <th>Age_15btw24</th>\n",
       "      <th>Age_25btw34</th>\n",
       "      <th>Age_35_plus</th>\n",
       "      <th>SES_AB</th>\n",
       "      <th>SES_C</th>\n",
       "      <th>SES_DE</th>\n",
       "    </tr>\n",
       "  </thead>\n",
       "  <tbody>\n",
       "    <tr>\n",
       "      <th>0</th>\n",
       "      <td>1104</td>\n",
       "      <td>2017_Ağustos</td>\n",
       "      <td>0.767244</td>\n",
       "      <td>1.252642</td>\n",
       "      <td>1.214838</td>\n",
       "      <td>1.215157</td>\n",
       "      <td>1.384924</td>\n",
       "      <td>0.000000</td>\n",
       "      <td>1.663801</td>\n",
       "      <td>0.593598</td>\n",
       "    </tr>\n",
       "    <tr>\n",
       "      <th>1</th>\n",
       "      <td>1075</td>\n",
       "      <td>2017_Ağustos</td>\n",
       "      <td>0.567527</td>\n",
       "      <td>0.472860</td>\n",
       "      <td>0.444116</td>\n",
       "      <td>0.578143</td>\n",
       "      <td>1.092074</td>\n",
       "      <td>6.441386</td>\n",
       "      <td>0.380396</td>\n",
       "      <td>0.000000</td>\n",
       "    </tr>\n",
       "    <tr>\n",
       "      <th>2</th>\n",
       "      <td>1222</td>\n",
       "      <td>2017_Ağustos</td>\n",
       "      <td>2.146795</td>\n",
       "      <td>0.445412</td>\n",
       "      <td>0.511511</td>\n",
       "      <td>0.493610</td>\n",
       "      <td>0.525460</td>\n",
       "      <td>0.211591</td>\n",
       "      <td>0.619338</td>\n",
       "      <td>0.219533</td>\n",
       "    </tr>\n",
       "    <tr>\n",
       "      <th>3</th>\n",
       "      <td>1153</td>\n",
       "      <td>2017_Ağustos</td>\n",
       "      <td>0.811281</td>\n",
       "      <td>1.895182</td>\n",
       "      <td>1.633033</td>\n",
       "      <td>1.645367</td>\n",
       "      <td>1.474986</td>\n",
       "      <td>0.350339</td>\n",
       "      <td>1.486028</td>\n",
       "      <td>2.501944</td>\n",
       "    </tr>\n",
       "    <tr>\n",
       "      <th>4</th>\n",
       "      <td>1119</td>\n",
       "      <td>2017_Ağustos</td>\n",
       "      <td>0.828340</td>\n",
       "      <td>2.371785</td>\n",
       "      <td>2.063324</td>\n",
       "      <td>2.315591</td>\n",
       "      <td>1.770818</td>\n",
       "      <td>0.000000</td>\n",
       "      <td>1.742556</td>\n",
       "      <td>3.728387</td>\n",
       "    </tr>\n",
       "  </tbody>\n",
       "</table>\n",
       "</div>"
      ],
      "text/plain": [
       "     ID        Months      KG_N  Age_0btw14  Age_15btw24  Age_25btw34  \\\n",
       "0  1104  2017_Ağustos  0.767244    1.252642     1.214838     1.215157   \n",
       "1  1075  2017_Ağustos  0.567527    0.472860     0.444116     0.578143   \n",
       "2  1222  2017_Ağustos  2.146795    0.445412     0.511511     0.493610   \n",
       "3  1153  2017_Ağustos  0.811281    1.895182     1.633033     1.645367   \n",
       "4  1119  2017_Ağustos  0.828340    2.371785     2.063324     2.315591   \n",
       "\n",
       "   Age_35_plus    SES_AB     SES_C    SES_DE  \n",
       "0     1.384924  0.000000  1.663801  0.593598  \n",
       "1     1.092074  6.441386  0.380396  0.000000  \n",
       "2     0.525460  0.211591  0.619338  0.219533  \n",
       "3     1.474986  0.350339  1.486028  2.501944  \n",
       "4     1.770818  0.000000  1.742556  3.728387  "
      ]
     },
     "execution_count": 3,
     "metadata": {},
     "output_type": "execute_result"
    }
   ],
   "source": [
    "data.head()"
   ]
  },
  {
   "cell_type": "code",
   "execution_count": 4,
   "metadata": {},
   "outputs": [
    {
     "data": {
      "text/html": [
       "<div>\n",
       "<style scoped>\n",
       "    .dataframe tbody tr th:only-of-type {\n",
       "        vertical-align: middle;\n",
       "    }\n",
       "\n",
       "    .dataframe tbody tr th {\n",
       "        vertical-align: top;\n",
       "    }\n",
       "\n",
       "    .dataframe thead th {\n",
       "        text-align: right;\n",
       "    }\n",
       "</style>\n",
       "<table border=\"1\" class=\"dataframe\">\n",
       "  <thead>\n",
       "    <tr style=\"text-align: right;\">\n",
       "      <th></th>\n",
       "      <th>ID</th>\n",
       "      <th>Months</th>\n",
       "      <th>KG_N</th>\n",
       "      <th>Age_0btw14</th>\n",
       "      <th>Age_15btw24</th>\n",
       "      <th>Age_25btw34</th>\n",
       "      <th>Age_35_plus</th>\n",
       "      <th>SES_AB</th>\n",
       "      <th>SES_C</th>\n",
       "      <th>SES_DE</th>\n",
       "    </tr>\n",
       "  </thead>\n",
       "  <tbody>\n",
       "    <tr>\n",
       "      <th>15495</th>\n",
       "      <td>1007</td>\n",
       "      <td>2019_Temmuz</td>\n",
       "      <td>0.917332</td>\n",
       "      <td>0.504051</td>\n",
       "      <td>0.532248</td>\n",
       "      <td>0.544934</td>\n",
       "      <td>0.639379</td>\n",
       "      <td>0.000000</td>\n",
       "      <td>0.738617</td>\n",
       "      <td>0.263685</td>\n",
       "    </tr>\n",
       "    <tr>\n",
       "      <th>15496</th>\n",
       "      <td>1370</td>\n",
       "      <td>2019_Temmuz</td>\n",
       "      <td>0.893760</td>\n",
       "      <td>1.235175</td>\n",
       "      <td>1.411839</td>\n",
       "      <td>1.476302</td>\n",
       "      <td>1.485722</td>\n",
       "      <td>4.113885</td>\n",
       "      <td>1.339222</td>\n",
       "      <td>0.719922</td>\n",
       "    </tr>\n",
       "    <tr>\n",
       "      <th>15497</th>\n",
       "      <td>1403</td>\n",
       "      <td>2019_Temmuz</td>\n",
       "      <td>0.860005</td>\n",
       "      <td>0.975663</td>\n",
       "      <td>1.529348</td>\n",
       "      <td>1.524607</td>\n",
       "      <td>1.916349</td>\n",
       "      <td>0.000000</td>\n",
       "      <td>1.649273</td>\n",
       "      <td>1.934101</td>\n",
       "    </tr>\n",
       "    <tr>\n",
       "      <th>15498</th>\n",
       "      <td>1097</td>\n",
       "      <td>2019_Temmuz</td>\n",
       "      <td>1.724277</td>\n",
       "      <td>1.177783</td>\n",
       "      <td>1.069680</td>\n",
       "      <td>1.064206</td>\n",
       "      <td>0.968016</td>\n",
       "      <td>1.047549</td>\n",
       "      <td>1.190887</td>\n",
       "      <td>0.580108</td>\n",
       "    </tr>\n",
       "    <tr>\n",
       "      <th>15499</th>\n",
       "      <td>1453</td>\n",
       "      <td>2019_Temmuz</td>\n",
       "      <td>1.318582</td>\n",
       "      <td>1.255137</td>\n",
       "      <td>1.356540</td>\n",
       "      <td>1.346484</td>\n",
       "      <td>1.552523</td>\n",
       "      <td>1.283421</td>\n",
       "      <td>0.868984</td>\n",
       "      <td>3.241489</td>\n",
       "    </tr>\n",
       "  </tbody>\n",
       "</table>\n",
       "</div>"
      ],
      "text/plain": [
       "         ID       Months      KG_N  Age_0btw14  Age_15btw24  Age_25btw34  \\\n",
       "15495  1007  2019_Temmuz  0.917332    0.504051     0.532248     0.544934   \n",
       "15496  1370  2019_Temmuz  0.893760    1.235175     1.411839     1.476302   \n",
       "15497  1403  2019_Temmuz  0.860005    0.975663     1.529348     1.524607   \n",
       "15498  1097  2019_Temmuz  1.724277    1.177783     1.069680     1.064206   \n",
       "15499  1453  2019_Temmuz  1.318582    1.255137     1.356540     1.346484   \n",
       "\n",
       "       Age_35_plus    SES_AB     SES_C    SES_DE  \n",
       "15495     0.639379  0.000000  0.738617  0.263685  \n",
       "15496     1.485722  4.113885  1.339222  0.719922  \n",
       "15497     1.916349  0.000000  1.649273  1.934101  \n",
       "15498     0.968016  1.047549  1.190887  0.580108  \n",
       "15499     1.552523  1.283421  0.868984  3.241489  "
      ]
     },
     "execution_count": 4,
     "metadata": {},
     "output_type": "execute_result"
    }
   ],
   "source": [
    "data.tail()"
   ]
  },
  {
   "cell_type": "markdown",
   "metadata": {},
   "source": [
    "We need to take `Months` as in any order. So, let us order the data set according to `Months`"
   ]
  },
  {
   "cell_type": "code",
   "execution_count": 5,
   "metadata": {},
   "outputs": [],
   "source": [
    "#data.sort_values(['ID'], axis=0, ascending=True, inplace=True) \n",
    "months = ['2017_Ocak', '2017_Şubat', '2017_Mart', '2017_Nisan', '2017_Mayıs', '2017_Haziran', \n",
    "          '2017_Temmuz', '2017_Ağustos', '2017_Eylül', '2017_Ekim', '2017_Kasım', '2017_Aralık',\n",
    "         '2018_Ocak', '2018_Şubat', '2018_Mart', '2018_Nisan', '2018_Mayıs', '2018_Haziran', \n",
    "          '2018_Temmuz', '2018_Ağustos', '2018_Eylül', '2018_Ekim', '2018_Kasım', '2018_Aralık',\n",
    "         '2019_Ocak', '2019_Şubat', '2019_Mart', '2019_Nisan', '2019_Mayıs', '2019_Haziran', \n",
    "          '2019_Temmuz']\n",
    "\n",
    "\n",
    "data['Months'] = pd.Categorical(data['Months'], months)"
   ]
  },
  {
   "cell_type": "code",
   "execution_count": 6,
   "metadata": {},
   "outputs": [
    {
     "data": {
      "text/plain": [
       "0        2017_Ağustos\n",
       "1        2017_Ağustos\n",
       "2        2017_Ağustos\n",
       "3        2017_Ağustos\n",
       "4        2017_Ağustos\n",
       "             ...     \n",
       "15495     2019_Temmuz\n",
       "15496     2019_Temmuz\n",
       "15497     2019_Temmuz\n",
       "15498     2019_Temmuz\n",
       "15499     2019_Temmuz\n",
       "Name: Months, Length: 15500, dtype: category\n",
       "Categories (31, object): [2017_Ocak, 2017_Şubat, 2017_Mart, 2017_Nisan, ..., 2019_Nisan, 2019_Mayıs, 2019_Haziran, 2019_Temmuz]"
      ]
     },
     "execution_count": 6,
     "metadata": {},
     "output_type": "execute_result"
    }
   ],
   "source": [
    "data['Months']"
   ]
  },
  {
   "cell_type": "code",
   "execution_count": 7,
   "metadata": {},
   "outputs": [],
   "source": [
    "data = data.sort_values('Months')"
   ]
  },
  {
   "cell_type": "code",
   "execution_count": 8,
   "metadata": {},
   "outputs": [
    {
     "data": {
      "text/html": [
       "<div>\n",
       "<style scoped>\n",
       "    .dataframe tbody tr th:only-of-type {\n",
       "        vertical-align: middle;\n",
       "    }\n",
       "\n",
       "    .dataframe tbody tr th {\n",
       "        vertical-align: top;\n",
       "    }\n",
       "\n",
       "    .dataframe thead th {\n",
       "        text-align: right;\n",
       "    }\n",
       "</style>\n",
       "<table border=\"1\" class=\"dataframe\">\n",
       "  <thead>\n",
       "    <tr style=\"text-align: right;\">\n",
       "      <th></th>\n",
       "      <th>ID</th>\n",
       "      <th>Months</th>\n",
       "      <th>KG_N</th>\n",
       "      <th>Age_0btw14</th>\n",
       "      <th>Age_15btw24</th>\n",
       "      <th>Age_25btw34</th>\n",
       "      <th>Age_35_plus</th>\n",
       "      <th>SES_AB</th>\n",
       "      <th>SES_C</th>\n",
       "      <th>SES_DE</th>\n",
       "    </tr>\n",
       "  </thead>\n",
       "  <tbody>\n",
       "    <tr>\n",
       "      <th>4999</th>\n",
       "      <td>1453</td>\n",
       "      <td>2017_Ocak</td>\n",
       "      <td>0.961883</td>\n",
       "      <td>1.255137</td>\n",
       "      <td>1.356540</td>\n",
       "      <td>1.346484</td>\n",
       "      <td>1.552523</td>\n",
       "      <td>1.283421</td>\n",
       "      <td>0.868984</td>\n",
       "      <td>3.241489</td>\n",
       "    </tr>\n",
       "    <tr>\n",
       "      <th>4842</th>\n",
       "      <td>1447</td>\n",
       "      <td>2017_Ocak</td>\n",
       "      <td>0.049575</td>\n",
       "      <td>0.950710</td>\n",
       "      <td>0.698143</td>\n",
       "      <td>0.786455</td>\n",
       "      <td>0.484902</td>\n",
       "      <td>0.000000</td>\n",
       "      <td>0.134190</td>\n",
       "      <td>2.634400</td>\n",
       "    </tr>\n",
       "    <tr>\n",
       "      <th>4841</th>\n",
       "      <td>1257</td>\n",
       "      <td>2017_Ocak</td>\n",
       "      <td>0.800829</td>\n",
       "      <td>0.276979</td>\n",
       "      <td>0.437203</td>\n",
       "      <td>0.517762</td>\n",
       "      <td>0.705584</td>\n",
       "      <td>3.028180</td>\n",
       "      <td>0.431242</td>\n",
       "      <td>0.000000</td>\n",
       "    </tr>\n",
       "    <tr>\n",
       "      <th>4840</th>\n",
       "      <td>1225</td>\n",
       "      <td>2017_Ocak</td>\n",
       "      <td>1.215752</td>\n",
       "      <td>0.046163</td>\n",
       "      <td>0.060483</td>\n",
       "      <td>0.076985</td>\n",
       "      <td>0.131812</td>\n",
       "      <td>0.901863</td>\n",
       "      <td>0.031349</td>\n",
       "      <td>0.000000</td>\n",
       "    </tr>\n",
       "    <tr>\n",
       "      <th>4839</th>\n",
       "      <td>1273</td>\n",
       "      <td>2017_Ocak</td>\n",
       "      <td>0.881055</td>\n",
       "      <td>0.056144</td>\n",
       "      <td>0.119237</td>\n",
       "      <td>0.098118</td>\n",
       "      <td>0.095430</td>\n",
       "      <td>0.000000</td>\n",
       "      <td>0.069580</td>\n",
       "      <td>0.193778</td>\n",
       "    </tr>\n",
       "  </tbody>\n",
       "</table>\n",
       "</div>"
      ],
      "text/plain": [
       "        ID     Months      KG_N  Age_0btw14  Age_15btw24  Age_25btw34  \\\n",
       "4999  1453  2017_Ocak  0.961883    1.255137     1.356540     1.346484   \n",
       "4842  1447  2017_Ocak  0.049575    0.950710     0.698143     0.786455   \n",
       "4841  1257  2017_Ocak  0.800829    0.276979     0.437203     0.517762   \n",
       "4840  1225  2017_Ocak  1.215752    0.046163     0.060483     0.076985   \n",
       "4839  1273  2017_Ocak  0.881055    0.056144     0.119237     0.098118   \n",
       "\n",
       "      Age_35_plus    SES_AB     SES_C    SES_DE  \n",
       "4999     1.552523  1.283421  0.868984  3.241489  \n",
       "4842     0.484902  0.000000  0.134190  2.634400  \n",
       "4841     0.705584  3.028180  0.431242  0.000000  \n",
       "4840     0.131812  0.901863  0.031349  0.000000  \n",
       "4839     0.095430  0.000000  0.069580  0.193778  "
      ]
     },
     "execution_count": 8,
     "metadata": {},
     "output_type": "execute_result"
    }
   ],
   "source": [
    "data.head()"
   ]
  },
  {
   "cell_type": "code",
   "execution_count": 9,
   "metadata": {},
   "outputs": [
    {
     "data": {
      "text/html": [
       "<div>\n",
       "<style scoped>\n",
       "    .dataframe tbody tr th:only-of-type {\n",
       "        vertical-align: middle;\n",
       "    }\n",
       "\n",
       "    .dataframe tbody tr th {\n",
       "        vertical-align: top;\n",
       "    }\n",
       "\n",
       "    .dataframe thead th {\n",
       "        text-align: right;\n",
       "    }\n",
       "</style>\n",
       "<table border=\"1\" class=\"dataframe\">\n",
       "  <thead>\n",
       "    <tr style=\"text-align: right;\">\n",
       "      <th></th>\n",
       "      <th>ID</th>\n",
       "      <th>Months</th>\n",
       "      <th>KG_N</th>\n",
       "      <th>Age_0btw14</th>\n",
       "      <th>Age_15btw24</th>\n",
       "      <th>Age_25btw34</th>\n",
       "      <th>Age_35_plus</th>\n",
       "      <th>SES_AB</th>\n",
       "      <th>SES_C</th>\n",
       "      <th>SES_DE</th>\n",
       "    </tr>\n",
       "  </thead>\n",
       "  <tbody>\n",
       "    <tr>\n",
       "      <th>15158</th>\n",
       "      <td>1313</td>\n",
       "      <td>2019_Temmuz</td>\n",
       "      <td>0.975951</td>\n",
       "      <td>2.888313</td>\n",
       "      <td>2.835774</td>\n",
       "      <td>2.454466</td>\n",
       "      <td>2.262878</td>\n",
       "      <td>0.000000</td>\n",
       "      <td>3.225908</td>\n",
       "      <td>1.149177</td>\n",
       "    </tr>\n",
       "    <tr>\n",
       "      <th>15157</th>\n",
       "      <td>1034</td>\n",
       "      <td>2019_Temmuz</td>\n",
       "      <td>0.117278</td>\n",
       "      <td>0.114784</td>\n",
       "      <td>0.129606</td>\n",
       "      <td>0.119251</td>\n",
       "      <td>0.126444</td>\n",
       "      <td>0.544587</td>\n",
       "      <td>0.105517</td>\n",
       "      <td>0.030661</td>\n",
       "    </tr>\n",
       "    <tr>\n",
       "      <th>15156</th>\n",
       "      <td>1306</td>\n",
       "      <td>2019_Temmuz</td>\n",
       "      <td>1.059414</td>\n",
       "      <td>0.514032</td>\n",
       "      <td>0.558169</td>\n",
       "      <td>0.726075</td>\n",
       "      <td>1.131439</td>\n",
       "      <td>2.698653</td>\n",
       "      <td>0.785259</td>\n",
       "      <td>0.343404</td>\n",
       "    </tr>\n",
       "    <tr>\n",
       "      <th>15169</th>\n",
       "      <td>1394</td>\n",
       "      <td>2019_Temmuz</td>\n",
       "      <td>0.793912</td>\n",
       "      <td>0.646283</td>\n",
       "      <td>0.606555</td>\n",
       "      <td>0.594748</td>\n",
       "      <td>0.595840</td>\n",
       "      <td>0.000000</td>\n",
       "      <td>0.579960</td>\n",
       "      <td>0.916153</td>\n",
       "    </tr>\n",
       "    <tr>\n",
       "      <th>15499</th>\n",
       "      <td>1453</td>\n",
       "      <td>2019_Temmuz</td>\n",
       "      <td>1.318582</td>\n",
       "      <td>1.255137</td>\n",
       "      <td>1.356540</td>\n",
       "      <td>1.346484</td>\n",
       "      <td>1.552523</td>\n",
       "      <td>1.283421</td>\n",
       "      <td>0.868984</td>\n",
       "      <td>3.241489</td>\n",
       "    </tr>\n",
       "  </tbody>\n",
       "</table>\n",
       "</div>"
      ],
      "text/plain": [
       "         ID       Months      KG_N  Age_0btw14  Age_15btw24  Age_25btw34  \\\n",
       "15158  1313  2019_Temmuz  0.975951    2.888313     2.835774     2.454466   \n",
       "15157  1034  2019_Temmuz  0.117278    0.114784     0.129606     0.119251   \n",
       "15156  1306  2019_Temmuz  1.059414    0.514032     0.558169     0.726075   \n",
       "15169  1394  2019_Temmuz  0.793912    0.646283     0.606555     0.594748   \n",
       "15499  1453  2019_Temmuz  1.318582    1.255137     1.356540     1.346484   \n",
       "\n",
       "       Age_35_plus    SES_AB     SES_C    SES_DE  \n",
       "15158     2.262878  0.000000  3.225908  1.149177  \n",
       "15157     0.126444  0.544587  0.105517  0.030661  \n",
       "15156     1.131439  2.698653  0.785259  0.343404  \n",
       "15169     0.595840  0.000000  0.579960  0.916153  \n",
       "15499     1.552523  1.283421  0.868984  3.241489  "
      ]
     },
     "execution_count": 9,
     "metadata": {},
     "output_type": "execute_result"
    }
   ],
   "source": [
    "data.tail()"
   ]
  },
  {
   "cell_type": "markdown",
   "metadata": {},
   "source": [
    "The feature of `Months` is encoded based on label. "
   ]
  },
  {
   "cell_type": "code",
   "execution_count": 10,
   "metadata": {},
   "outputs": [],
   "source": [
    "from sklearn import preprocessing\n",
    "le = preprocessing.LabelEncoder()\n",
    "\n",
    "data['Months'] = le.fit_transform(data.Months.values)"
   ]
  },
  {
   "cell_type": "code",
   "execution_count": 11,
   "metadata": {},
   "outputs": [],
   "source": [
    "#train_data = data.iloc[:-2500, :]\n",
    "#test_data = data.iloc[-2500:, :]"
   ]
  },
  {
   "cell_type": "code",
   "execution_count": 12,
   "metadata": {},
   "outputs": [],
   "source": [
    "#train_data.shape"
   ]
  },
  {
   "cell_type": "code",
   "execution_count": 13,
   "metadata": {},
   "outputs": [],
   "source": [
    "#train_data.tail()"
   ]
  },
  {
   "cell_type": "code",
   "execution_count": 14,
   "metadata": {},
   "outputs": [],
   "source": [
    "#train_data['Months'] += 1\n",
    "#test_data['Months'] += 1"
   ]
  },
  {
   "cell_type": "code",
   "execution_count": 15,
   "metadata": {},
   "outputs": [],
   "source": [
    "#sample_train = train_data[train_data['ID'] == '1000']\n",
    "#sample_train = train_data.loc[train_data['ID'] == 1000]\n",
    "#sample_test = test_data.loc[test_data['ID'] == 1000]\n",
    "#sample_data = data.loc[data['ID'] == 1000]"
   ]
  },
  {
   "cell_type": "markdown",
   "metadata": {},
   "source": [
    "We try to construct sequential data sets based on time for each consumer. The features except `KG_N` have same values for one consumer. So, we got only one row for each user. However, `KG_N` feature has different values in every month. So, `KG_N` has sequential data based on time. Therefore, we will use data of the `KG_N` feature in one row for one consumer. We shall get `KG_N` values for one consumer, then create one column for one monthly `KG_N` value.  "
   ]
  },
  {
   "cell_type": "code",
   "execution_count": 16,
   "metadata": {},
   "outputs": [],
   "source": [
    "#create target\n",
    "target = []\n",
    "\n",
    "#create data frame for features\n",
    "features = pd.DataFrame()\n",
    "\n",
    "for consumer_id in range(1000, 1500):\n",
    "    #take one sample data for one consumer\n",
    "    sample_data = data.loc[data['ID'] == consumer_id]\n",
    "    \n",
    "    #take feature of KG_N\n",
    "    temp_column = sample_data['KG_N']\n",
    "    sample_data = sample_data.drop(['KG_N'], axis = 1)\n",
    "    \n",
    "    #we can take first row, because others are same\n",
    "    sample_data = sample_data.head(1)\n",
    "    \n",
    "    #the data of KG_N \n",
    "    sale_list = list(temp_column)\n",
    "    #sample_test = test_data.loc[test_data['ID'] == consumer_id]\n",
    "    \n",
    "    #data of last 5 months is ready for target value. Because, we try to forecast \n",
    "    # sale(KG_N) data for future 5 months \n",
    "    \n",
    "    for sale_index in range(0,len(sale_list[:-5])):\n",
    "        sample_data['KG_N' + str(sale_index+1)] = sale_list[sale_index]\n",
    "    \n",
    "    #target list is ready \n",
    "    sample_target = sale_list[-5:]\n",
    "    target.append(sample_target)\n",
    "    \n",
    "    #we create a new data frame. After processing of one consumer, we add this to data frame  \n",
    "    features = features.append(sample_data)\n",
    "    \n",
    "        "
   ]
  },
  {
   "cell_type": "code",
   "execution_count": 17,
   "metadata": {},
   "outputs": [
    {
     "data": {
      "text/html": [
       "<div>\n",
       "<style scoped>\n",
       "    .dataframe tbody tr th:only-of-type {\n",
       "        vertical-align: middle;\n",
       "    }\n",
       "\n",
       "    .dataframe tbody tr th {\n",
       "        vertical-align: top;\n",
       "    }\n",
       "\n",
       "    .dataframe thead th {\n",
       "        text-align: right;\n",
       "    }\n",
       "</style>\n",
       "<table border=\"1\" class=\"dataframe\">\n",
       "  <thead>\n",
       "    <tr style=\"text-align: right;\">\n",
       "      <th></th>\n",
       "      <th>ID</th>\n",
       "      <th>Months</th>\n",
       "      <th>Age_0btw14</th>\n",
       "      <th>Age_15btw24</th>\n",
       "      <th>Age_25btw34</th>\n",
       "      <th>Age_35_plus</th>\n",
       "      <th>SES_AB</th>\n",
       "      <th>SES_C</th>\n",
       "      <th>SES_DE</th>\n",
       "      <th>KG_N1</th>\n",
       "      <th>...</th>\n",
       "      <th>KG_N17</th>\n",
       "      <th>KG_N18</th>\n",
       "      <th>KG_N19</th>\n",
       "      <th>KG_N20</th>\n",
       "      <th>KG_N21</th>\n",
       "      <th>KG_N22</th>\n",
       "      <th>KG_N23</th>\n",
       "      <th>KG_N24</th>\n",
       "      <th>KG_N25</th>\n",
       "      <th>KG_N26</th>\n",
       "    </tr>\n",
       "  </thead>\n",
       "  <tbody>\n",
       "    <tr>\n",
       "      <th>4703</th>\n",
       "      <td>1000</td>\n",
       "      <td>9</td>\n",
       "      <td>1.135363</td>\n",
       "      <td>1.487874</td>\n",
       "      <td>1.610649</td>\n",
       "      <td>1.943785</td>\n",
       "      <td>0.0</td>\n",
       "      <td>2.010936</td>\n",
       "      <td>1.027759</td>\n",
       "      <td>0.838420</td>\n",
       "      <td>...</td>\n",
       "      <td>0.993866</td>\n",
       "      <td>0.269208</td>\n",
       "      <td>0.000000</td>\n",
       "      <td>0.244104</td>\n",
       "      <td>0.225719</td>\n",
       "      <td>1.270895</td>\n",
       "      <td>0.876907</td>\n",
       "      <td>1.092460</td>\n",
       "      <td>0.913969</td>\n",
       "      <td>0.595763</td>\n",
       "    </tr>\n",
       "    <tr>\n",
       "      <th>4508</th>\n",
       "      <td>1001</td>\n",
       "      <td>9</td>\n",
       "      <td>1.407351</td>\n",
       "      <td>1.743629</td>\n",
       "      <td>1.864247</td>\n",
       "      <td>2.255124</td>\n",
       "      <td>0.0</td>\n",
       "      <td>2.433767</td>\n",
       "      <td>0.965211</td>\n",
       "      <td>0.629077</td>\n",
       "      <td>...</td>\n",
       "      <td>1.047801</td>\n",
       "      <td>0.000000</td>\n",
       "      <td>0.300051</td>\n",
       "      <td>1.275315</td>\n",
       "      <td>0.865830</td>\n",
       "      <td>0.674250</td>\n",
       "      <td>0.974255</td>\n",
       "      <td>1.001949</td>\n",
       "      <td>0.879498</td>\n",
       "      <td>0.870328</td>\n",
       "    </tr>\n",
       "    <tr>\n",
       "      <th>4652</th>\n",
       "      <td>1002</td>\n",
       "      <td>9</td>\n",
       "      <td>1.353702</td>\n",
       "      <td>1.679691</td>\n",
       "      <td>1.809904</td>\n",
       "      <td>2.182359</td>\n",
       "      <td>0.0</td>\n",
       "      <td>2.356923</td>\n",
       "      <td>0.919832</td>\n",
       "      <td>0.000000</td>\n",
       "      <td>...</td>\n",
       "      <td>0.962731</td>\n",
       "      <td>0.809239</td>\n",
       "      <td>1.597027</td>\n",
       "      <td>0.622993</td>\n",
       "      <td>0.523961</td>\n",
       "      <td>0.000000</td>\n",
       "      <td>1.201331</td>\n",
       "      <td>0.948026</td>\n",
       "      <td>0.875313</td>\n",
       "      <td>0.867262</td>\n",
       "    </tr>\n",
       "    <tr>\n",
       "      <th>4593</th>\n",
       "      <td>1003</td>\n",
       "      <td>9</td>\n",
       "      <td>1.189012</td>\n",
       "      <td>1.368637</td>\n",
       "      <td>1.340446</td>\n",
       "      <td>1.602623</td>\n",
       "      <td>0.0</td>\n",
       "      <td>1.603778</td>\n",
       "      <td>1.380975</td>\n",
       "      <td>1.942177</td>\n",
       "      <td>...</td>\n",
       "      <td>0.725677</td>\n",
       "      <td>1.057338</td>\n",
       "      <td>1.009389</td>\n",
       "      <td>1.153974</td>\n",
       "      <td>1.360827</td>\n",
       "      <td>1.220480</td>\n",
       "      <td>1.023983</td>\n",
       "      <td>0.961195</td>\n",
       "      <td>1.057607</td>\n",
       "      <td>0.432472</td>\n",
       "    </tr>\n",
       "    <tr>\n",
       "      <th>4943</th>\n",
       "      <td>1004</td>\n",
       "      <td>9</td>\n",
       "      <td>1.493439</td>\n",
       "      <td>1.750542</td>\n",
       "      <td>1.843113</td>\n",
       "      <td>2.188323</td>\n",
       "      <td>0.0</td>\n",
       "      <td>2.456323</td>\n",
       "      <td>0.827849</td>\n",
       "      <td>1.212114</td>\n",
       "      <td>...</td>\n",
       "      <td>0.909427</td>\n",
       "      <td>0.750613</td>\n",
       "      <td>1.311159</td>\n",
       "      <td>1.587534</td>\n",
       "      <td>1.223260</td>\n",
       "      <td>1.056295</td>\n",
       "      <td>1.283058</td>\n",
       "      <td>0.931790</td>\n",
       "      <td>1.106693</td>\n",
       "      <td>1.525527</td>\n",
       "    </tr>\n",
       "  </tbody>\n",
       "</table>\n",
       "<p>5 rows × 35 columns</p>\n",
       "</div>"
      ],
      "text/plain": [
       "        ID  Months  Age_0btw14  Age_15btw24  Age_25btw34  Age_35_plus  SES_AB  \\\n",
       "4703  1000       9    1.135363     1.487874     1.610649     1.943785     0.0   \n",
       "4508  1001       9    1.407351     1.743629     1.864247     2.255124     0.0   \n",
       "4652  1002       9    1.353702     1.679691     1.809904     2.182359     0.0   \n",
       "4593  1003       9    1.189012     1.368637     1.340446     1.602623     0.0   \n",
       "4943  1004       9    1.493439     1.750542     1.843113     2.188323     0.0   \n",
       "\n",
       "         SES_C    SES_DE     KG_N1  ...    KG_N17    KG_N18    KG_N19  \\\n",
       "4703  2.010936  1.027759  0.838420  ...  0.993866  0.269208  0.000000   \n",
       "4508  2.433767  0.965211  0.629077  ...  1.047801  0.000000  0.300051   \n",
       "4652  2.356923  0.919832  0.000000  ...  0.962731  0.809239  1.597027   \n",
       "4593  1.603778  1.380975  1.942177  ...  0.725677  1.057338  1.009389   \n",
       "4943  2.456323  0.827849  1.212114  ...  0.909427  0.750613  1.311159   \n",
       "\n",
       "        KG_N20    KG_N21    KG_N22    KG_N23    KG_N24    KG_N25    KG_N26  \n",
       "4703  0.244104  0.225719  1.270895  0.876907  1.092460  0.913969  0.595763  \n",
       "4508  1.275315  0.865830  0.674250  0.974255  1.001949  0.879498  0.870328  \n",
       "4652  0.622993  0.523961  0.000000  1.201331  0.948026  0.875313  0.867262  \n",
       "4593  1.153974  1.360827  1.220480  1.023983  0.961195  1.057607  0.432472  \n",
       "4943  1.587534  1.223260  1.056295  1.283058  0.931790  1.106693  1.525527  \n",
       "\n",
       "[5 rows x 35 columns]"
      ]
     },
     "execution_count": 17,
     "metadata": {},
     "output_type": "execute_result"
    }
   ],
   "source": [
    "features.head()"
   ]
  },
  {
   "cell_type": "code",
   "execution_count": 18,
   "metadata": {},
   "outputs": [],
   "source": [
    "#from sklearn.preprocessing import MinMaxScaler\n",
    "#scaler = MinMaxScaler(feature_range = (0, 1))\n",
    "\n",
    "#features['Age_0btw14'] = scaler.fit_transform(features['Age_0btw14'])"
   ]
  },
  {
   "cell_type": "code",
   "execution_count": 19,
   "metadata": {},
   "outputs": [
    {
     "data": {
      "text/html": [
       "<div>\n",
       "<style scoped>\n",
       "    .dataframe tbody tr th:only-of-type {\n",
       "        vertical-align: middle;\n",
       "    }\n",
       "\n",
       "    .dataframe tbody tr th {\n",
       "        vertical-align: top;\n",
       "    }\n",
       "\n",
       "    .dataframe thead th {\n",
       "        text-align: right;\n",
       "    }\n",
       "</style>\n",
       "<table border=\"1\" class=\"dataframe\">\n",
       "  <thead>\n",
       "    <tr style=\"text-align: right;\">\n",
       "      <th></th>\n",
       "      <th>ID</th>\n",
       "      <th>Months</th>\n",
       "      <th>Age_0btw14</th>\n",
       "      <th>Age_15btw24</th>\n",
       "      <th>Age_25btw34</th>\n",
       "      <th>Age_35_plus</th>\n",
       "      <th>SES_AB</th>\n",
       "      <th>SES_C</th>\n",
       "      <th>SES_DE</th>\n",
       "      <th>KG_N1</th>\n",
       "      <th>...</th>\n",
       "      <th>KG_N17</th>\n",
       "      <th>KG_N18</th>\n",
       "      <th>KG_N19</th>\n",
       "      <th>KG_N20</th>\n",
       "      <th>KG_N21</th>\n",
       "      <th>KG_N22</th>\n",
       "      <th>KG_N23</th>\n",
       "      <th>KG_N24</th>\n",
       "      <th>KG_N25</th>\n",
       "      <th>KG_N26</th>\n",
       "    </tr>\n",
       "  </thead>\n",
       "  <tbody>\n",
       "    <tr>\n",
       "      <th>4678</th>\n",
       "      <td>1495</td>\n",
       "      <td>9</td>\n",
       "      <td>0.981902</td>\n",
       "      <td>0.784547</td>\n",
       "      <td>0.846836</td>\n",
       "      <td>0.775367</td>\n",
       "      <td>0.000000</td>\n",
       "      <td>1.081929</td>\n",
       "      <td>0.334819</td>\n",
       "      <td>0.000000</td>\n",
       "      <td>...</td>\n",
       "      <td>1.244279</td>\n",
       "      <td>1.266389</td>\n",
       "      <td>1.044007</td>\n",
       "      <td>0.987653</td>\n",
       "      <td>1.037840</td>\n",
       "      <td>0.913910</td>\n",
       "      <td>0.542642</td>\n",
       "      <td>0.812121</td>\n",
       "      <td>0.524834</td>\n",
       "      <td>0.887420</td>\n",
       "    </tr>\n",
       "    <tr>\n",
       "      <th>4627</th>\n",
       "      <td>1496</td>\n",
       "      <td>9</td>\n",
       "      <td>2.210838</td>\n",
       "      <td>1.995929</td>\n",
       "      <td>1.784243</td>\n",
       "      <td>1.535226</td>\n",
       "      <td>0.000000</td>\n",
       "      <td>2.044196</td>\n",
       "      <td>1.639754</td>\n",
       "      <td>0.000000</td>\n",
       "      <td>...</td>\n",
       "      <td>0.613353</td>\n",
       "      <td>0.480915</td>\n",
       "      <td>0.843119</td>\n",
       "      <td>1.742318</td>\n",
       "      <td>0.495263</td>\n",
       "      <td>1.824678</td>\n",
       "      <td>1.275957</td>\n",
       "      <td>1.534073</td>\n",
       "      <td>0.363101</td>\n",
       "      <td>0.537201</td>\n",
       "    </tr>\n",
       "    <tr>\n",
       "      <th>4655</th>\n",
       "      <td>1497</td>\n",
       "      <td>9</td>\n",
       "      <td>0.394258</td>\n",
       "      <td>0.400914</td>\n",
       "      <td>0.484553</td>\n",
       "      <td>0.713337</td>\n",
       "      <td>2.539092</td>\n",
       "      <td>0.422067</td>\n",
       "      <td>0.283308</td>\n",
       "      <td>0.000000</td>\n",
       "      <td>...</td>\n",
       "      <td>0.819996</td>\n",
       "      <td>1.034904</td>\n",
       "      <td>1.153090</td>\n",
       "      <td>1.054918</td>\n",
       "      <td>0.896917</td>\n",
       "      <td>1.475815</td>\n",
       "      <td>0.805502</td>\n",
       "      <td>1.327692</td>\n",
       "      <td>0.630186</td>\n",
       "      <td>1.092682</td>\n",
       "    </tr>\n",
       "    <tr>\n",
       "      <th>4915</th>\n",
       "      <td>1498</td>\n",
       "      <td>9</td>\n",
       "      <td>0.798497</td>\n",
       "      <td>0.689503</td>\n",
       "      <td>0.582671</td>\n",
       "      <td>0.452695</td>\n",
       "      <td>0.000000</td>\n",
       "      <td>0.167068</td>\n",
       "      <td>2.143823</td>\n",
       "      <td>0.000000</td>\n",
       "      <td>...</td>\n",
       "      <td>0.415617</td>\n",
       "      <td>1.555607</td>\n",
       "      <td>2.149390</td>\n",
       "      <td>1.719520</td>\n",
       "      <td>1.238800</td>\n",
       "      <td>1.210753</td>\n",
       "      <td>0.924875</td>\n",
       "      <td>1.083562</td>\n",
       "      <td>0.943477</td>\n",
       "      <td>1.037118</td>\n",
       "    </tr>\n",
       "    <tr>\n",
       "      <th>4698</th>\n",
       "      <td>1499</td>\n",
       "      <td>9</td>\n",
       "      <td>0.853393</td>\n",
       "      <td>0.929705</td>\n",
       "      <td>0.920802</td>\n",
       "      <td>0.941772</td>\n",
       "      <td>0.000000</td>\n",
       "      <td>1.162214</td>\n",
       "      <td>0.456237</td>\n",
       "      <td>0.446737</td>\n",
       "      <td>...</td>\n",
       "      <td>0.618785</td>\n",
       "      <td>2.033133</td>\n",
       "      <td>0.913440</td>\n",
       "      <td>1.526766</td>\n",
       "      <td>1.220182</td>\n",
       "      <td>0.508102</td>\n",
       "      <td>0.840249</td>\n",
       "      <td>0.549556</td>\n",
       "      <td>0.436457</td>\n",
       "      <td>0.594004</td>\n",
       "    </tr>\n",
       "  </tbody>\n",
       "</table>\n",
       "<p>5 rows × 35 columns</p>\n",
       "</div>"
      ],
      "text/plain": [
       "        ID  Months  Age_0btw14  Age_15btw24  Age_25btw34  Age_35_plus  \\\n",
       "4678  1495       9    0.981902     0.784547     0.846836     0.775367   \n",
       "4627  1496       9    2.210838     1.995929     1.784243     1.535226   \n",
       "4655  1497       9    0.394258     0.400914     0.484553     0.713337   \n",
       "4915  1498       9    0.798497     0.689503     0.582671     0.452695   \n",
       "4698  1499       9    0.853393     0.929705     0.920802     0.941772   \n",
       "\n",
       "        SES_AB     SES_C    SES_DE     KG_N1  ...    KG_N17    KG_N18  \\\n",
       "4678  0.000000  1.081929  0.334819  0.000000  ...  1.244279  1.266389   \n",
       "4627  0.000000  2.044196  1.639754  0.000000  ...  0.613353  0.480915   \n",
       "4655  2.539092  0.422067  0.283308  0.000000  ...  0.819996  1.034904   \n",
       "4915  0.000000  0.167068  2.143823  0.000000  ...  0.415617  1.555607   \n",
       "4698  0.000000  1.162214  0.456237  0.446737  ...  0.618785  2.033133   \n",
       "\n",
       "        KG_N19    KG_N20    KG_N21    KG_N22    KG_N23    KG_N24    KG_N25  \\\n",
       "4678  1.044007  0.987653  1.037840  0.913910  0.542642  0.812121  0.524834   \n",
       "4627  0.843119  1.742318  0.495263  1.824678  1.275957  1.534073  0.363101   \n",
       "4655  1.153090  1.054918  0.896917  1.475815  0.805502  1.327692  0.630186   \n",
       "4915  2.149390  1.719520  1.238800  1.210753  0.924875  1.083562  0.943477   \n",
       "4698  0.913440  1.526766  1.220182  0.508102  0.840249  0.549556  0.436457   \n",
       "\n",
       "        KG_N26  \n",
       "4678  0.887420  \n",
       "4627  0.537201  \n",
       "4655  1.092682  \n",
       "4915  1.037118  \n",
       "4698  0.594004  \n",
       "\n",
       "[5 rows x 35 columns]"
      ]
     },
     "execution_count": 19,
     "metadata": {},
     "output_type": "execute_result"
    }
   ],
   "source": [
    "features.tail()"
   ]
  },
  {
   "cell_type": "markdown",
   "metadata": {},
   "source": [
    "The features of `Months` and `ID` are of no use, anymore.  "
   ]
  },
  {
   "cell_type": "code",
   "execution_count": 20,
   "metadata": {},
   "outputs": [
    {
     "data": {
      "text/html": [
       "<div>\n",
       "<style scoped>\n",
       "    .dataframe tbody tr th:only-of-type {\n",
       "        vertical-align: middle;\n",
       "    }\n",
       "\n",
       "    .dataframe tbody tr th {\n",
       "        vertical-align: top;\n",
       "    }\n",
       "\n",
       "    .dataframe thead th {\n",
       "        text-align: right;\n",
       "    }\n",
       "</style>\n",
       "<table border=\"1\" class=\"dataframe\">\n",
       "  <thead>\n",
       "    <tr style=\"text-align: right;\">\n",
       "      <th></th>\n",
       "      <th>Age_0btw14</th>\n",
       "      <th>Age_15btw24</th>\n",
       "      <th>Age_25btw34</th>\n",
       "      <th>Age_35_plus</th>\n",
       "      <th>SES_AB</th>\n",
       "      <th>SES_C</th>\n",
       "      <th>SES_DE</th>\n",
       "      <th>KG_N1</th>\n",
       "      <th>KG_N2</th>\n",
       "      <th>KG_N3</th>\n",
       "      <th>...</th>\n",
       "      <th>KG_N17</th>\n",
       "      <th>KG_N18</th>\n",
       "      <th>KG_N19</th>\n",
       "      <th>KG_N20</th>\n",
       "      <th>KG_N21</th>\n",
       "      <th>KG_N22</th>\n",
       "      <th>KG_N23</th>\n",
       "      <th>KG_N24</th>\n",
       "      <th>KG_N25</th>\n",
       "      <th>KG_N26</th>\n",
       "    </tr>\n",
       "  </thead>\n",
       "  <tbody>\n",
       "    <tr>\n",
       "      <th>4703</th>\n",
       "      <td>1.135363</td>\n",
       "      <td>1.487874</td>\n",
       "      <td>1.610649</td>\n",
       "      <td>1.943785</td>\n",
       "      <td>0.0</td>\n",
       "      <td>2.010936</td>\n",
       "      <td>1.027759</td>\n",
       "      <td>0.838420</td>\n",
       "      <td>0.975015</td>\n",
       "      <td>0.000000</td>\n",
       "      <td>...</td>\n",
       "      <td>0.993866</td>\n",
       "      <td>0.269208</td>\n",
       "      <td>0.000000</td>\n",
       "      <td>0.244104</td>\n",
       "      <td>0.225719</td>\n",
       "      <td>1.270895</td>\n",
       "      <td>0.876907</td>\n",
       "      <td>1.092460</td>\n",
       "      <td>0.913969</td>\n",
       "      <td>0.595763</td>\n",
       "    </tr>\n",
       "    <tr>\n",
       "      <th>4508</th>\n",
       "      <td>1.407351</td>\n",
       "      <td>1.743629</td>\n",
       "      <td>1.864247</td>\n",
       "      <td>2.255124</td>\n",
       "      <td>0.0</td>\n",
       "      <td>2.433767</td>\n",
       "      <td>0.965211</td>\n",
       "      <td>0.629077</td>\n",
       "      <td>0.911534</td>\n",
       "      <td>0.884192</td>\n",
       "      <td>...</td>\n",
       "      <td>1.047801</td>\n",
       "      <td>0.000000</td>\n",
       "      <td>0.300051</td>\n",
       "      <td>1.275315</td>\n",
       "      <td>0.865830</td>\n",
       "      <td>0.674250</td>\n",
       "      <td>0.974255</td>\n",
       "      <td>1.001949</td>\n",
       "      <td>0.879498</td>\n",
       "      <td>0.870328</td>\n",
       "    </tr>\n",
       "    <tr>\n",
       "      <th>4652</th>\n",
       "      <td>1.353702</td>\n",
       "      <td>1.679691</td>\n",
       "      <td>1.809904</td>\n",
       "      <td>2.182359</td>\n",
       "      <td>0.0</td>\n",
       "      <td>2.356923</td>\n",
       "      <td>0.919832</td>\n",
       "      <td>0.000000</td>\n",
       "      <td>1.645973</td>\n",
       "      <td>0.926581</td>\n",
       "      <td>...</td>\n",
       "      <td>0.962731</td>\n",
       "      <td>0.809239</td>\n",
       "      <td>1.597027</td>\n",
       "      <td>0.622993</td>\n",
       "      <td>0.523961</td>\n",
       "      <td>0.000000</td>\n",
       "      <td>1.201331</td>\n",
       "      <td>0.948026</td>\n",
       "      <td>0.875313</td>\n",
       "      <td>0.867262</td>\n",
       "    </tr>\n",
       "    <tr>\n",
       "      <th>4593</th>\n",
       "      <td>1.189012</td>\n",
       "      <td>1.368637</td>\n",
       "      <td>1.340446</td>\n",
       "      <td>1.602623</td>\n",
       "      <td>0.0</td>\n",
       "      <td>1.603778</td>\n",
       "      <td>1.380975</td>\n",
       "      <td>1.942177</td>\n",
       "      <td>1.513418</td>\n",
       "      <td>0.362346</td>\n",
       "      <td>...</td>\n",
       "      <td>0.725677</td>\n",
       "      <td>1.057338</td>\n",
       "      <td>1.009389</td>\n",
       "      <td>1.153974</td>\n",
       "      <td>1.360827</td>\n",
       "      <td>1.220480</td>\n",
       "      <td>1.023983</td>\n",
       "      <td>0.961195</td>\n",
       "      <td>1.057607</td>\n",
       "      <td>0.432472</td>\n",
       "    </tr>\n",
       "    <tr>\n",
       "      <th>4943</th>\n",
       "      <td>1.493439</td>\n",
       "      <td>1.750542</td>\n",
       "      <td>1.843113</td>\n",
       "      <td>2.188323</td>\n",
       "      <td>0.0</td>\n",
       "      <td>2.456323</td>\n",
       "      <td>0.827849</td>\n",
       "      <td>1.212114</td>\n",
       "      <td>0.876699</td>\n",
       "      <td>0.852420</td>\n",
       "      <td>...</td>\n",
       "      <td>0.909427</td>\n",
       "      <td>0.750613</td>\n",
       "      <td>1.311159</td>\n",
       "      <td>1.587534</td>\n",
       "      <td>1.223260</td>\n",
       "      <td>1.056295</td>\n",
       "      <td>1.283058</td>\n",
       "      <td>0.931790</td>\n",
       "      <td>1.106693</td>\n",
       "      <td>1.525527</td>\n",
       "    </tr>\n",
       "  </tbody>\n",
       "</table>\n",
       "<p>5 rows × 33 columns</p>\n",
       "</div>"
      ],
      "text/plain": [
       "      Age_0btw14  Age_15btw24  Age_25btw34  Age_35_plus  SES_AB     SES_C  \\\n",
       "4703    1.135363     1.487874     1.610649     1.943785     0.0  2.010936   \n",
       "4508    1.407351     1.743629     1.864247     2.255124     0.0  2.433767   \n",
       "4652    1.353702     1.679691     1.809904     2.182359     0.0  2.356923   \n",
       "4593    1.189012     1.368637     1.340446     1.602623     0.0  1.603778   \n",
       "4943    1.493439     1.750542     1.843113     2.188323     0.0  2.456323   \n",
       "\n",
       "        SES_DE     KG_N1     KG_N2     KG_N3  ...    KG_N17    KG_N18  \\\n",
       "4703  1.027759  0.838420  0.975015  0.000000  ...  0.993866  0.269208   \n",
       "4508  0.965211  0.629077  0.911534  0.884192  ...  1.047801  0.000000   \n",
       "4652  0.919832  0.000000  1.645973  0.926581  ...  0.962731  0.809239   \n",
       "4593  1.380975  1.942177  1.513418  0.362346  ...  0.725677  1.057338   \n",
       "4943  0.827849  1.212114  0.876699  0.852420  ...  0.909427  0.750613   \n",
       "\n",
       "        KG_N19    KG_N20    KG_N21    KG_N22    KG_N23    KG_N24    KG_N25  \\\n",
       "4703  0.000000  0.244104  0.225719  1.270895  0.876907  1.092460  0.913969   \n",
       "4508  0.300051  1.275315  0.865830  0.674250  0.974255  1.001949  0.879498   \n",
       "4652  1.597027  0.622993  0.523961  0.000000  1.201331  0.948026  0.875313   \n",
       "4593  1.009389  1.153974  1.360827  1.220480  1.023983  0.961195  1.057607   \n",
       "4943  1.311159  1.587534  1.223260  1.056295  1.283058  0.931790  1.106693   \n",
       "\n",
       "        KG_N26  \n",
       "4703  0.595763  \n",
       "4508  0.870328  \n",
       "4652  0.867262  \n",
       "4593  0.432472  \n",
       "4943  1.525527  \n",
       "\n",
       "[5 rows x 33 columns]"
      ]
     },
     "execution_count": 20,
     "metadata": {},
     "output_type": "execute_result"
    }
   ],
   "source": [
    "features = features.drop(['Months', 'ID'], axis = 1)\n",
    "features.head()"
   ]
  },
  {
   "cell_type": "code",
   "execution_count": 21,
   "metadata": {},
   "outputs": [],
   "source": [
    "#train_target = sample_train['KG_N']\n",
    "#train_features = sample_train.drop(['KG_N'], axis = 1)\n",
    "\n",
    "#sample_features = sample_data.drop(['Age_0btw14', 'Age_15btw24', 'Age_25btw34', \n",
    "#                                    'Age_35_plus', 'SES_AB','SES_C', 'SES_DE'], axis = 1)\n",
    "\n",
    "#features = sample_features.iloc[:-5]\n",
    "#target = sample_features.iloc[-5:]\n",
    "\n",
    "#test_target = sample_test['KG_N']\n",
    "#test_features = sample_test.drop(['KG_N'], axis = 1)\n",
    "\n",
    "#train_target = train_data['KG_N']\n",
    "#train_features = train_data.drop(['KG_N'], axis = 1)\n"
   ]
  },
  {
   "cell_type": "code",
   "execution_count": 22,
   "metadata": {},
   "outputs": [
    {
     "data": {
      "text/plain": [
       "(500, 33)"
      ]
     },
     "execution_count": 22,
     "metadata": {},
     "output_type": "execute_result"
    }
   ],
   "source": [
    "features.shape"
   ]
  },
  {
   "cell_type": "markdown",
   "metadata": {},
   "source": [
    "We must convert the list(target) to array. "
   ]
  },
  {
   "cell_type": "code",
   "execution_count": 23,
   "metadata": {},
   "outputs": [
    {
     "data": {
      "text/plain": [
       "(500, 5)"
      ]
     },
     "execution_count": 23,
     "metadata": {},
     "output_type": "execute_result"
    }
   ],
   "source": [
    "target = np.array(target)\n",
    "target.shape"
   ]
  },
  {
   "cell_type": "code",
   "execution_count": 24,
   "metadata": {},
   "outputs": [],
   "source": [
    "#target = target['KG_N']"
   ]
  },
  {
   "cell_type": "markdown",
   "metadata": {},
   "source": [
    "We must expand dimension of fetures for implementing in Recurrent Neural Network."
   ]
  },
  {
   "cell_type": "code",
   "execution_count": 25,
   "metadata": {},
   "outputs": [],
   "source": [
    "#train_features = np.expand_dims(train_features, axis = 2)\n",
    "#test_features = np.expand_dims(test_features, axis = 2)\n",
    "features = np.expand_dims(features, axis = 2)\n",
    "#target = np.expand_dims(target, axis = 1)"
   ]
  },
  {
   "cell_type": "code",
   "execution_count": 26,
   "metadata": {},
   "outputs": [
    {
     "data": {
      "text/plain": [
       "(500, 33, 1)"
      ]
     },
     "execution_count": 26,
     "metadata": {},
     "output_type": "execute_result"
    }
   ],
   "source": [
    "features.shape"
   ]
  },
  {
   "cell_type": "markdown",
   "metadata": {},
   "source": [
    "We process data through LSTM since it is one dimensional and sequential data based on time. LSTM is correct method for this data and problem. "
   ]
  },
  {
   "cell_type": "code",
   "execution_count": 27,
   "metadata": {},
   "outputs": [],
   "source": [
    "from sklearn.model_selection import train_test_split\n",
    "train_features, test_features, train_target, test_target = train_test_split(features, target, test_size = 0.2)"
   ]
  },
  {
   "cell_type": "code",
   "execution_count": 28,
   "metadata": {},
   "outputs": [
    {
     "data": {
      "text/plain": [
       "(400, 33, 1)"
      ]
     },
     "execution_count": 28,
     "metadata": {},
     "output_type": "execute_result"
    }
   ],
   "source": [
    "train_features.shape"
   ]
  },
  {
   "cell_type": "code",
   "execution_count": 29,
   "metadata": {},
   "outputs": [
    {
     "data": {
      "text/plain": [
       "(100, 33, 1)"
      ]
     },
     "execution_count": 29,
     "metadata": {},
     "output_type": "execute_result"
    }
   ],
   "source": [
    "test_features.shape"
   ]
  },
  {
   "cell_type": "code",
   "execution_count": 30,
   "metadata": {},
   "outputs": [
    {
     "name": "stderr",
     "output_type": "stream",
     "text": [
      "Using TensorFlow backend.\n"
     ]
    }
   ],
   "source": [
    "from keras.layers import LSTM, Dense, Dropout, Flatten, BatchNormalization, Conv1D, MaxPooling1D\n",
    "from keras.models import Sequential\n",
    "from keras.regularizers import l1, l2, l1_l2"
   ]
  },
  {
   "cell_type": "code",
   "execution_count": 31,
   "metadata": {},
   "outputs": [],
   "source": [
    "model = Sequential()"
   ]
  },
  {
   "cell_type": "code",
   "execution_count": 32,
   "metadata": {},
   "outputs": [],
   "source": [
    "#model.add(Conv1D(25, 2, input_shape = (train_features.shape[1], 1), activation = 'relu'))\n",
    "#model.add(MaxPooling1D(pool_size = 2))\n",
    "#model.add(LSTM(120, return_sequences=True, activation='relu'))\n",
    "model.add(LSTM(32, input_shape = (features.shape[1], 1), return_sequences=True, activation='relu'))\n",
    "\n",
    "#model.add(Dropout(0.5))\n",
    "model.add(LSTM(36, return_sequences=True, activation='tanh'))\n",
    "\n",
    "model.add(LSTM(32, return_sequences=False, activation='relu'))\n",
    "#model.add(Dropout(0.5))\n",
    "\n",
    "#model.add(Dense(500, activation = 'relu'))\n",
    "#model.add(Dense(32, activation = 'relu'))\n",
    "#model.add(Dropout(0.5))\n",
    "#model.add(Dense(64, activation = 'relu'))\n",
    "#model.add(Dropout(0.5))\n"
   ]
  },
  {
   "cell_type": "code",
   "execution_count": 33,
   "metadata": {},
   "outputs": [],
   "source": [
    "model.add(Dense(5, activation = 'linear'))"
   ]
  },
  {
   "cell_type": "code",
   "execution_count": 34,
   "metadata": {},
   "outputs": [],
   "source": [
    "import keras \n",
    "#opt_param = keras.optimizers.Adam(learning_rate = 0.01)\n",
    "model.compile(optimizer = 'Adam', loss = 'mean_absolute_error')"
   ]
  },
  {
   "cell_type": "code",
   "execution_count": 35,
   "metadata": {},
   "outputs": [
    {
     "name": "stdout",
     "output_type": "stream",
     "text": [
      "Train on 400 samples, validate on 100 samples\n",
      "Epoch 1/25\n",
      "400/400 [==============================] - 2s 6ms/step - loss: 0.9360 - val_loss: 0.8559\n",
      "Epoch 2/25\n",
      "400/400 [==============================] - 0s 1ms/step - loss: 0.8057 - val_loss: 0.6356\n",
      "Epoch 3/25\n",
      "400/400 [==============================] - 1s 1ms/step - loss: 0.5789 - val_loss: 0.4965\n",
      "Epoch 4/25\n",
      "400/400 [==============================] - 1s 1ms/step - loss: 0.4564 - val_loss: 0.3786\n",
      "Epoch 5/25\n",
      "400/400 [==============================] - 1s 1ms/step - loss: 0.4071 - val_loss: 0.3830\n",
      "Epoch 6/25\n",
      "400/400 [==============================] - 1s 1ms/step - loss: 0.3987 - val_loss: 0.3768\n",
      "Epoch 7/25\n",
      "400/400 [==============================] - 1s 1ms/step - loss: 0.3907 - val_loss: 0.3680\n",
      "Epoch 8/25\n",
      "400/400 [==============================] - 0s 1ms/step - loss: 0.3875 - val_loss: 0.3636\n",
      "Epoch 9/25\n",
      "400/400 [==============================] - 1s 1ms/step - loss: 0.3879 - val_loss: 0.3642\n",
      "Epoch 10/25\n",
      "400/400 [==============================] - 0s 1ms/step - loss: 0.3840 - val_loss: 0.3656\n",
      "Epoch 11/25\n",
      "400/400 [==============================] - 0s 1ms/step - loss: 0.3831 - val_loss: 0.3617\n",
      "Epoch 12/25\n",
      "400/400 [==============================] - 0s 1ms/step - loss: 0.3819 - val_loss: 0.3672\n",
      "Epoch 13/25\n",
      "400/400 [==============================] - 0s 1ms/step - loss: 0.3804 - val_loss: 0.3623\n",
      "Epoch 14/25\n",
      "400/400 [==============================] - 0s 1ms/step - loss: 0.3805 - val_loss: 0.3630\n",
      "Epoch 15/25\n",
      "400/400 [==============================] - 0s 1ms/step - loss: 0.3799 - val_loss: 0.3612\n",
      "Epoch 16/25\n",
      "400/400 [==============================] - 0s 1ms/step - loss: 0.3766 - val_loss: 0.3700\n",
      "Epoch 17/25\n",
      "400/400 [==============================] - 0s 1ms/step - loss: 0.3775 - val_loss: 0.3566\n",
      "Epoch 18/25\n",
      "400/400 [==============================] - 0s 1ms/step - loss: 0.3739 - val_loss: 0.3514\n",
      "Epoch 19/25\n",
      "400/400 [==============================] - 0s 1ms/step - loss: 0.3686 - val_loss: 0.3525\n",
      "Epoch 20/25\n",
      "400/400 [==============================] - 1s 1ms/step - loss: 0.3644 - val_loss: 0.3539\n",
      "Epoch 21/25\n",
      "400/400 [==============================] - 1s 1ms/step - loss: 0.3635 - val_loss: 0.3415\n",
      "Epoch 22/25\n",
      "400/400 [==============================] - 0s 1ms/step - loss: 0.3556 - val_loss: 0.3449\n",
      "Epoch 23/25\n",
      "400/400 [==============================] - 1s 1ms/step - loss: 0.3512 - val_loss: 0.3427\n",
      "Epoch 24/25\n",
      "400/400 [==============================] - 1s 1ms/step - loss: 0.3519 - val_loss: 0.3422\n",
      "Epoch 25/25\n",
      "400/400 [==============================] - 1s 1ms/step - loss: 0.3516 - val_loss: 0.3339\n"
     ]
    }
   ],
   "source": [
    "rnn = model.fit(train_features, train_target, batch_size=64, epochs=25, validation_data=(test_features, test_target))"
   ]
  },
  {
   "cell_type": "code",
   "execution_count": 36,
   "metadata": {},
   "outputs": [
    {
     "data": {
      "text/plain": [
       "Text(0.5, 1.0, 'Loss Curves')"
      ]
     },
     "execution_count": 36,
     "metadata": {},
     "output_type": "execute_result"
    },
    {
     "data": {
      "image/png": "[encoded data removed]",
      "text/plain": [
       "<Figure size 576x432 with 1 Axes>"
      ]
     },
     "metadata": {
      "needs_background": "light"
     },
     "output_type": "display_data"
    }
   ],
   "source": [
    "import matplotlib.pyplot as plt\n",
    "\n",
    "#Plot the Loss Curves\n",
    "plt.figure(figsize=[8,6])\n",
    "plt.plot(rnn.history['loss'],'r',linewidth=3.0)\n",
    "plt.plot(rnn.history['val_loss'],'b',linewidth=3.0)\n",
    "plt.legend(['Training loss'],fontsize=18)\n",
    "plt.legend(['Test loss'],fontsize=18)\n",
    "plt.xlabel('Epochs ',fontsize=16)\n",
    "plt.ylabel('Loss',fontsize=16)\n",
    "plt.title('Loss Curves',fontsize=16)"
   ]
  },
  {
   "cell_type": "code",
   "execution_count": 37,
   "metadata": {},
   "outputs": [],
   "source": [
    "prediction = model.predict(features)"
   ]
  },
  {
   "cell_type": "code",
   "execution_count": 38,
   "metadata": {},
   "outputs": [
    {
     "data": {
      "text/plain": [
       "(500, 5)"
      ]
     },
     "execution_count": 38,
     "metadata": {},
     "output_type": "execute_result"
    }
   ],
   "source": [
    "prediction.shape"
   ]
  },
  {
   "cell_type": "code",
   "execution_count": 39,
   "metadata": {},
   "outputs": [
    {
     "data": {
      "text/plain": [
       "array([[0.96038824, 0.9428593 , 0.992655  , 0.7558726 , 0.914263  ],\n",
       "       [1.114787  , 1.1325308 , 1.2144682 , 0.9449893 , 1.1936091 ],\n",
       "       [1.0364382 , 1.0519979 , 1.1044393 , 0.86880165, 1.0787501 ],\n",
       "       ...,\n",
       "       [1.0337043 , 1.1249682 , 1.1323007 , 0.97834134, 1.2323992 ],\n",
       "       [0.9515622 , 1.096429  , 1.0437796 , 0.9990965 , 1.2424438 ],\n",
       "       [0.6178086 , 0.6594926 , 0.59207743, 0.5829783 , 0.62788504]],\n",
       "      dtype=float32)"
      ]
     },
     "execution_count": 39,
     "metadata": {},
     "output_type": "execute_result"
    }
   ],
   "source": [
    "prediction"
   ]
  },
  {
   "cell_type": "markdown",
   "metadata": {},
   "source": [
    "The process of prediction was done. Now, it's time for creating result data frame. "
   ]
  },
  {
   "cell_type": "code",
   "execution_count": 40,
   "metadata": {},
   "outputs": [],
   "source": [
    "result_df = pd.DataFrame(columns = ['ID-Months', 'KG_N'])"
   ]
  },
  {
   "cell_type": "code",
   "execution_count": 41,
   "metadata": {},
   "outputs": [],
   "source": [
    "predicted_values = []\n",
    "id_list = []\n",
    "\n",
    "\n",
    "for consumer_id in range(1000, 1500):\n",
    "    month_id_list = [0,4,2,1,3]\n",
    "    for month_id in month_id_list:\n",
    "        predicted_values.append(prediction[consumer_id-1000][month_id])\n",
    "        \n",
    "    month_list = ['2019_Ağustos', '2019_Aralık', '2019_Ekim', '2019_Eylül', '2019_Kasım']\n",
    "    \n",
    "    for month_name in month_list:\n",
    "        id_list.append(str(consumer_id) + '-' + month_name)"
   ]
  },
  {
   "cell_type": "code",
   "execution_count": 42,
   "metadata": {},
   "outputs": [],
   "source": [
    "result_df['ID-Months'] = id_list\n",
    "result_df['KG_N'] = predicted_values"
   ]
  },
  {
   "cell_type": "code",
   "execution_count": 43,
   "metadata": {},
   "outputs": [
    {
     "data": {
      "text/html": [
       "<div>\n",
       "<style scoped>\n",
       "    .dataframe tbody tr th:only-of-type {\n",
       "        vertical-align: middle;\n",
       "    }\n",
       "\n",
       "    .dataframe tbody tr th {\n",
       "        vertical-align: top;\n",
       "    }\n",
       "\n",
       "    .dataframe thead th {\n",
       "        text-align: right;\n",
       "    }\n",
       "</style>\n",
       "<table border=\"1\" class=\"dataframe\">\n",
       "  <thead>\n",
       "    <tr style=\"text-align: right;\">\n",
       "      <th></th>\n",
       "      <th>ID-Months</th>\n",
       "      <th>KG_N</th>\n",
       "    </tr>\n",
       "  </thead>\n",
       "  <tbody>\n",
       "    <tr>\n",
       "      <th>0</th>\n",
       "      <td>1000-2019_Ağustos</td>\n",
       "      <td>0.960388</td>\n",
       "    </tr>\n",
       "    <tr>\n",
       "      <th>1</th>\n",
       "      <td>1000-2019_Aralık</td>\n",
       "      <td>0.914263</td>\n",
       "    </tr>\n",
       "    <tr>\n",
       "      <th>2</th>\n",
       "      <td>1000-2019_Ekim</td>\n",
       "      <td>0.992655</td>\n",
       "    </tr>\n",
       "    <tr>\n",
       "      <th>3</th>\n",
       "      <td>1000-2019_Eylül</td>\n",
       "      <td>0.942859</td>\n",
       "    </tr>\n",
       "    <tr>\n",
       "      <th>4</th>\n",
       "      <td>1000-2019_Kasım</td>\n",
       "      <td>0.755873</td>\n",
       "    </tr>\n",
       "  </tbody>\n",
       "</table>\n",
       "</div>"
      ],
      "text/plain": [
       "           ID-Months      KG_N\n",
       "0  1000-2019_Ağustos  0.960388\n",
       "1   1000-2019_Aralık  0.914263\n",
       "2     1000-2019_Ekim  0.992655\n",
       "3    1000-2019_Eylül  0.942859\n",
       "4    1000-2019_Kasım  0.755873"
      ]
     },
     "execution_count": 43,
     "metadata": {},
     "output_type": "execute_result"
    }
   ],
   "source": [
    "result_df.head()"
   ]
  },
  {
   "cell_type": "code",
   "execution_count": 44,
   "metadata": {},
   "outputs": [
    {
     "data": {
      "text/html": [
       "<div>\n",
       "<style scoped>\n",
       "    .dataframe tbody tr th:only-of-type {\n",
       "        vertical-align: middle;\n",
       "    }\n",
       "\n",
       "    .dataframe tbody tr th {\n",
       "        vertical-align: top;\n",
       "    }\n",
       "\n",
       "    .dataframe thead th {\n",
       "        text-align: right;\n",
       "    }\n",
       "</style>\n",
       "<table border=\"1\" class=\"dataframe\">\n",
       "  <thead>\n",
       "    <tr style=\"text-align: right;\">\n",
       "      <th></th>\n",
       "      <th>ID-Months</th>\n",
       "      <th>KG_N</th>\n",
       "    </tr>\n",
       "  </thead>\n",
       "  <tbody>\n",
       "    <tr>\n",
       "      <th>2495</th>\n",
       "      <td>1499-2019_Ağustos</td>\n",
       "      <td>0.617809</td>\n",
       "    </tr>\n",
       "    <tr>\n",
       "      <th>2496</th>\n",
       "      <td>1499-2019_Aralık</td>\n",
       "      <td>0.627885</td>\n",
       "    </tr>\n",
       "    <tr>\n",
       "      <th>2497</th>\n",
       "      <td>1499-2019_Ekim</td>\n",
       "      <td>0.592077</td>\n",
       "    </tr>\n",
       "    <tr>\n",
       "      <th>2498</th>\n",
       "      <td>1499-2019_Eylül</td>\n",
       "      <td>0.659493</td>\n",
       "    </tr>\n",
       "    <tr>\n",
       "      <th>2499</th>\n",
       "      <td>1499-2019_Kasım</td>\n",
       "      <td>0.582978</td>\n",
       "    </tr>\n",
       "  </tbody>\n",
       "</table>\n",
       "</div>"
      ],
      "text/plain": [
       "              ID-Months      KG_N\n",
       "2495  1499-2019_Ağustos  0.617809\n",
       "2496   1499-2019_Aralık  0.627885\n",
       "2497     1499-2019_Ekim  0.592077\n",
       "2498    1499-2019_Eylül  0.659493\n",
       "2499    1499-2019_Kasım  0.582978"
      ]
     },
     "execution_count": 44,
     "metadata": {},
     "output_type": "execute_result"
    }
   ],
   "source": [
    "result_df.tail()"
   ]
  },
  {
   "cell_type": "code",
   "execution_count": 45,
   "metadata": {},
   "outputs": [],
   "source": [
    "result_df.to_csv('submission.csv', index = False, encoding = 'utf-8-sig')"
   ]
  },
  {
   "cell_type": "code",
   "execution_count": null,
   "metadata": {},
   "outputs": [],
   "source": []
  }
 ],
 "metadata": {
  "kernelspec": {
   "display_name": "Python 3",
   "language": "python",
   "name": "python3"
  },
  "language_info": {
   "codemirror_mode": {
    "name": "ipython",
    "version": 3
   },
   "file_extension": ".py",
   "mimetype": "text/x-python",
   "name": "python",
   "nbconvert_exporter": "python",
   "pygments_lexer": "ipython3",
   "version": "3.6.6"
  }
 },
 "nbformat": 4,
 "nbformat_minor": 1
}
